{
 "cells": [
  {
   "cell_type": "markdown",
   "id": "30ec83f7",
   "metadata": {},
   "source": [
    "# Testing Notebook"
   ]
  },
  {
   "cell_type": "markdown",
   "id": "285e8e53",
   "metadata": {},
   "source": [
    "## I. Import Functions and the Option Class"
   ]
  },
  {
   "cell_type": "code",
   "execution_count": 1,
   "id": "4ac6e121",
   "metadata": {},
   "outputs": [],
   "source": [
    "from options import *\n",
    "import numpy as np\n",
    "from datetime import datetime"
   ]
  },
  {
   "cell_type": "markdown",
   "id": "40ca5be0",
   "metadata": {},
   "source": [
    "## II. Set Parameters"
   ]
  },
  {
   "cell_type": "code",
   "execution_count": 2,
   "id": "faa357e3",
   "metadata": {},
   "outputs": [],
   "source": [
    "# Option variables.\n",
    "spot0 = 100\n",
    "call_strike = 100\n",
    "put_strike = 100\n",
    "r = 0.05\n",
    "vol = 0.2\n",
    "start_date = datetime(year=2022, month=1, day=1)\n",
    "expire_date = datetime(year=2023, month=1, day=1)\n",
    "year_delta = (expire_date - start_date).days / 365"
   ]
  },
  {
   "cell_type": "markdown",
   "id": "1fd91a8c",
   "metadata": {},
   "source": [
    "## III. Test Monte Carlo Pricing (Geometric Brownian Motion)"
   ]
  },
  {
   "cell_type": "code",
   "execution_count": null,
   "id": "bba86774",
   "metadata": {},
   "outputs": [],
   "source": [
    "# Monte Carlo pricing variables.\n",
    "steps = 50\n",
    "num_paths = 1000\n",
    "anti_paths = True\n",
    "mo_match = True\n",
    "save_paths = True\n",
    "seed = 100\n",
    "calc_greeks = True\n",
    "\n",
    "american_call = Option('call', spot0, call_strike, r, vol, 'american', year_delta,)\n",
    "american_put = Option('put', spot0, put_strike, r, vol, 'american', year_delta,)\n",
    "european_call = Option('call', spot0, call_strike, r, vol, 'european', year_delta,)\n",
    "european_put = Option('put', spot0, put_strike, r, vol, 'european', year_delta,)\n",
    "\n",
    "am_call_val = american_call.value_option('mc', steps=steps, num_paths=num_paths, anti_paths=anti_paths, \n",
    "                                         mo_match=mo_match, save_paths=save_paths, seed=seed, \n",
    "                                         calc_greeks=calc_greeks)\n",
    "am_put_val = american_put.value_option('mc', steps=steps, num_paths=num_paths, anti_paths=anti_paths, \n",
    "                                         mo_match=mo_match, save_paths=save_paths, seed=seed, \n",
    "                                         calc_greeks=calc_greeks)\n",
    "eur_call_val = european_call.value_option('mc', steps=steps, num_paths=num_paths, anti_paths=anti_paths, \n",
    "                                         mo_match=mo_match, save_paths=save_paths, seed=seed, \n",
    "                                         calc_greeks=calc_greeks)\n",
    "eur_put_val = european_put.value_option('mc', steps=steps, num_paths=num_paths, anti_paths=anti_paths, \n",
    "                                         mo_match=mo_match, save_paths=save_paths, seed=seed, \n",
    "                                         calc_greeks=calc_greeks)\n",
    "\n",
    "print(f'American Call Value: ${round(am_call_val, 2)}')\n",
    "print(f'American Put Value: ${round(am_put_val, 2)}')\n",
    "print(f'European Call Value: ${round(eur_call_val, 2)}')\n",
    "print(f'European Put Value: ${round(eur_put_val, 2)}')"
   ]
  },
  {
   "cell_type": "code",
   "execution_count": null,
   "id": "6f40594f",
   "metadata": {},
   "outputs": [],
   "source": [
    "print(f'American Call Greeks: {american_call.greeks()}')"
   ]
  },
  {
   "cell_type": "code",
   "execution_count": null,
   "id": "f4a20367",
   "metadata": {},
   "outputs": [],
   "source": [
    "print(f'American Put Greeks: {american_put.greeks()}')"
   ]
  },
  {
   "cell_type": "code",
   "execution_count": null,
   "id": "3483b5eb",
   "metadata": {},
   "outputs": [],
   "source": [
    "print(f'European Call Greeks: {european_call.greeks()}')"
   ]
  },
  {
   "cell_type": "code",
   "execution_count": null,
   "id": "0aa6b06b",
   "metadata": {},
   "outputs": [],
   "source": [
    "print(f'European Put Greeks: {european_put.greeks()}')"
   ]
  },
  {
   "cell_type": "markdown",
   "id": "04be581a",
   "metadata": {},
   "source": [
    "## IV. Plotting Simulated Paths"
   ]
  },
  {
   "cell_type": "code",
   "execution_count": null,
   "id": "f61283b2",
   "metadata": {
    "scrolled": true
   },
   "outputs": [],
   "source": [
    "# Monte Carlo pricing variables.\n",
    "steps = 48\n",
    "num_paths = 100\n",
    "anti_paths = True\n",
    "mo_match = True\n",
    "save_paths = True\n",
    "\n",
    "american_call = Option('call', spot0, call_strike, r, vol, 'american', year_delta)\n",
    "american_put = Option('put', spot0, put_strike, r, vol, 'american', year_delta)\n",
    "european_call = Option('call', spot0, call_strike, r, vol, 'european', year_delta)\n",
    "european_put = Option('put', spot0, put_strike, r, vol, 'european', year_delta)\n",
    "\n",
    "am_call_val = american_call.value_option('mc', steps=steps, num_paths=num_paths, \n",
    "                                         anti_paths=anti_paths, mo_match=mo_match, save_paths=save_paths,\n",
    "                                         calc_greeks=False)\n",
    "am_put_val = american_put.value_option('mc', steps=steps, num_paths=num_paths, \n",
    "                                       anti_paths=anti_paths, mo_match=mo_match, save_paths=save_paths,\n",
    "                                       calc_greeks=False)\n",
    "eur_call_val = european_call.value_option('mc', steps=steps, num_paths=num_paths, \n",
    "                                          anti_paths=anti_paths, mo_match=mo_match, save_paths=save_paths,\n",
    "                                          calc_greeks=False)\n",
    "eur_put_val = european_put.value_option('mc', steps=steps, num_paths=num_paths, \n",
    "                                         anti_paths=anti_paths, mo_match=mo_match, save_paths=save_paths,\n",
    "                                         calc_greeks=False)"
   ]
  },
  {
   "cell_type": "code",
   "execution_count": null,
   "id": "da6c2b22",
   "metadata": {},
   "outputs": [],
   "source": [
    "plot_sim_paths(steps, american_call, linestyles='dashed', color='k', label='Strike Price')"
   ]
  },
  {
   "cell_type": "code",
   "execution_count": null,
   "id": "4669f996",
   "metadata": {},
   "outputs": [],
   "source": [
    "plot_sim_paths(steps, american_put, linestyles='dashed', color='k', label='Strike Price')"
   ]
  },
  {
   "cell_type": "code",
   "execution_count": null,
   "id": "5e59e329",
   "metadata": {},
   "outputs": [],
   "source": [
    "plot_sim_paths(steps, european_call, linestyles='dashed', color='k', label='Strike Price')"
   ]
  },
  {
   "cell_type": "code",
   "execution_count": null,
   "id": "c183235f",
   "metadata": {},
   "outputs": [],
   "source": [
    "plot_sim_paths(steps, european_put, linestyles='dashed', color='k', label='Strike Price')"
   ]
  },
  {
   "cell_type": "markdown",
   "id": "a8467a93",
   "metadata": {},
   "source": [
    "## V. Plotting Option Values vs Strike Prices"
   ]
  },
  {
   "cell_type": "code",
   "execution_count": null,
   "id": "5fc00fc3",
   "metadata": {},
   "outputs": [],
   "source": [
    "strike_delta = 20\n",
    "# Monte Carlo pricing variables.\n",
    "steps = 48\n",
    "num_paths = 5000\n",
    "anti_paths = True\n",
    "mo_match = True\n",
    "save_paths = True"
   ]
  },
  {
   "cell_type": "code",
   "execution_count": null,
   "id": "92c82a30",
   "metadata": {},
   "outputs": [],
   "source": [
    "plot_value_vs_strike(strike_delta=strike_delta,\n",
    "                     opt_type='call', \n",
    "                     spot0=spot0,\n",
    "                     r=r,\n",
    "                     vol=vol,\n",
    "                     exercise='american',\n",
    "                     year_delta=year_delta,\n",
    "                     method='mc',\n",
    "                     steps=steps,\n",
    "                     num_paths=num_paths,\n",
    "                     anti_paths=anti_paths,\n",
    "                     mo_match=mo_match,\n",
    "                     calc_greeks=False\n",
    "                    )"
   ]
  },
  {
   "cell_type": "code",
   "execution_count": null,
   "id": "bfeb9fef",
   "metadata": {},
   "outputs": [],
   "source": [
    "plot_value_vs_strike(strike_delta=strike_delta,\n",
    "                     opt_type='put', \n",
    "                     spot0=spot0,\n",
    "                     r=r,\n",
    "                     vol=vol,\n",
    "                     exercise='american',\n",
    "                     year_delta=year_delta,\n",
    "                     method='mc',\n",
    "                     steps=steps,\n",
    "                     num_paths=num_paths,\n",
    "                     anti_paths=anti_paths,\n",
    "                     mo_match=mo_match,\n",
    "                     calc_greeks=False\n",
    "                    )"
   ]
  },
  {
   "cell_type": "code",
   "execution_count": null,
   "id": "4206bd3c",
   "metadata": {},
   "outputs": [],
   "source": [
    "plot_value_vs_strike(strike_delta=strike_delta,\n",
    "                     opt_type='call', \n",
    "                     spot0=spot0,\n",
    "                     r=r,\n",
    "                     vol=vol,\n",
    "                     exercise='european',\n",
    "                     year_delta=year_delta,\n",
    "                     method='mc',\n",
    "                     steps=steps,\n",
    "                     num_paths=num_paths,\n",
    "                     anti_paths=anti_paths,\n",
    "                     mo_match=mo_match,\n",
    "                     calc_greeks=False\n",
    "                    )"
   ]
  },
  {
   "cell_type": "code",
   "execution_count": null,
   "id": "4cb8f8e9",
   "metadata": {},
   "outputs": [],
   "source": [
    "plot_value_vs_strike(strike_delta=strike_delta,\n",
    "                     opt_type='put', \n",
    "                     spot0=spot0,\n",
    "                     r=r,\n",
    "                     vol=vol,\n",
    "                     exercise='european',\n",
    "                     year_delta=year_delta,\n",
    "                     method='mc',\n",
    "                     steps=steps,\n",
    "                     num_paths=num_paths,\n",
    "                     anti_paths=anti_paths,\n",
    "                     mo_match=mo_match,\n",
    "                     calc_greeks=False\n",
    "                    )"
   ]
  },
  {
   "cell_type": "code",
   "execution_count": null,
   "id": "0323683d",
   "metadata": {},
   "outputs": [],
   "source": [
    "plot_value_vs_strike(strike_delta=strike_delta,\n",
    "                     opt_type='call', \n",
    "                     spot0=spot0,\n",
    "                     r=r,\n",
    "                     vol=vol,\n",
    "                     exercise='european',\n",
    "                     year_delta=year_delta,\n",
    "                     method='bs'\n",
    "                    )"
   ]
  },
  {
   "cell_type": "code",
   "execution_count": null,
   "id": "c2333f85",
   "metadata": {},
   "outputs": [],
   "source": [
    "plot_value_vs_strike(strike_delta=strike_delta,\n",
    "                     opt_type='put', \n",
    "                     spot0=spot0,\n",
    "                     r=r,\n",
    "                     vol=vol,\n",
    "                     exercise='european',\n",
    "                     year_delta=year_delta,\n",
    "                     method='bs'\n",
    "                    )"
   ]
  },
  {
   "cell_type": "markdown",
   "id": "c092529a",
   "metadata": {},
   "source": [
    "# Black-Scholes Testing"
   ]
  },
  {
   "cell_type": "code",
   "execution_count": null,
   "id": "bd882413",
   "metadata": {},
   "outputs": [],
   "source": [
    "bs_eur_call_val = european_call.value_option('bs')\n",
    "bs_eur_put_val = european_put.value_option('bs')"
   ]
  },
  {
   "cell_type": "code",
   "execution_count": null,
   "id": "4393b6a0",
   "metadata": {},
   "outputs": [],
   "source": [
    "print(f'European Call Value (BS): ${round(bs_eur_call_val, 2)}')\n",
    "print(f'Greeks(BS): {european_call.greeks()}')"
   ]
  },
  {
   "cell_type": "code",
   "execution_count": null,
   "id": "3756a9b2",
   "metadata": {},
   "outputs": [],
   "source": [
    "print(f'European Put Value (BS): ${round(bs_eur_put_val, 2)}')\n",
    "print(f'Greeks (BS): {european_put.greeks()}')"
   ]
  },
  {
   "cell_type": "code",
   "execution_count": null,
   "id": "0a42e887",
   "metadata": {},
   "outputs": [],
   "source": [
    "eur_call_val = european_call.value_option('mc', steps=steps, num_paths=num_paths, anti_paths=anti_paths, \n",
    "                                         mo_match=mo_match, save_paths=save_paths, seed=seed, \n",
    "                                         calc_greeks=True)\n",
    "eur_put_val = european_put.value_option('mc', steps=steps, num_paths=num_paths, anti_paths=anti_paths, \n",
    "                                         mo_match=mo_match, save_paths=save_paths, seed=seed, \n",
    "                                         calc_greeks=True)"
   ]
  },
  {
   "cell_type": "code",
   "execution_count": null,
   "id": "5cbfa122",
   "metadata": {},
   "outputs": [],
   "source": [
    "print(f'European Call Value (MC): ${round(european_call.value, 2)}')\n",
    "print(f'Greeks (MC): {european_call.greeks()}')"
   ]
  },
  {
   "cell_type": "code",
   "execution_count": null,
   "id": "40fdbde7",
   "metadata": {},
   "outputs": [],
   "source": [
    "print(f'European Put Value (MC): ${round(european_put.value, 2)}')\n",
    "print(f'Greeks (MC): {european_put.greeks()}')"
   ]
  }
 ],
 "metadata": {
  "kernelspec": {
   "display_name": "Python 3 (ipykernel)",
   "language": "python",
   "name": "python3"
  },
  "language_info": {
   "codemirror_mode": {
    "name": "ipython",
    "version": 3
   },
   "file_extension": ".py",
   "mimetype": "text/x-python",
   "name": "python",
   "nbconvert_exporter": "python",
   "pygments_lexer": "ipython3",
   "version": "3.8.5"
  }
 },
 "nbformat": 4,
 "nbformat_minor": 5
}
